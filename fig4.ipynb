{
 "cells": [
  {
   "cell_type": "code",
   "id": "76f462fef58420fa",
   "metadata": {
    "ExecuteTime": {
     "end_time": "2025-06-30T08:41:33.095758Z",
     "start_time": "2025-06-30T08:41:33.090862Z"
    }
   },
   "source": [
    "# =============================================================================\n",
    "# --- 1. 导入必要的库 ---\n",
    "# =============================================================================\n",
    "import numpy as np\n",
    "import qutip as qt\n",
    "import matplotlib.pyplot as plt\n",
    "from cspsa import  run_cspsa_simulation\n",
    "from simulation_utils import calculate_cspsa_violation\n"
   ],
   "outputs": [],
   "execution_count": 51
  },
  {
   "metadata": {
    "ExecuteTime": {
     "end_time": "2025-06-30T08:41:33.115548Z",
     "start_time": "2025-06-30T08:41:33.111763Z"
    }
   },
   "cell_type": "code",
   "source": [
    "H = qt.basis(2, 0)\n",
    "V = qt.basis(2, 1)\n",
    "# =============================================================================\n",
    "# --- 3. CSPSA 算法实现 ---\n",
    "# =============================================================================\n",
    "    a= 1.0 , s=1.25, b=0.25, r =1/6.0\n",
    "  def alpha(k):\n",
    "        return a / (k + 1.0) ** s\n",
    "\n",
    "    def c(k):\n",
    "        return b / (k + 1.0) ** r\n",
    "\n",
    "def run_cspsa_source_noise(hparams, iterations, sigma):\n",
    "    \"\"\"\n",
    "    为子图(a)运行CSPSA：源不稳定性。\n",
    "    在每次迭代中，都从一个正态分布中采样theta来生成新的量子态。\n",
    "    \"\"\"\n",
    "\n",
    "    params = np.random.uniform(-1, 1, 10) + 1j * np.random.uniform(-1, 1, 10)\n",
    "    params /= np.linalg.norm(params)\n",
    "\n",
    "\n",
    "\n",
    "    history = []\n",
    "    mean_theta = np.pi / 4\n",
    "\n",
    "    for k in range(1, iterations + 1):\n",
    "        # 1. 在当前迭代中生成一个带噪声的量子态\n",
    "        theta_k = np.random.normal(loc=mean_theta, scale=sigma)\n",
    "        psi_k = np.cos(theta_k) * qt.tensor(H, H) + np.sin(theta_k) * qt.tensor(V, V)\n",
    "        rho_k = qt.ket2dm(psi_k.unit())\n",
    "\n",
    "        # 2. 计算当前违背值\n",
    "        val_k = calculate_cspsa_violation(rho_k, params)\n",
    "        history.append(val_k)\n",
    "\n",
    "        # 3. CSPSA步骤\n",
    "        delta = np.random.choice([1, -1, 1j, -1j], size=10)\n",
    "        ck = c(k)\n",
    "\n",
    "        params_plus = params + ck * delta\n",
    "\n",
    "        # 使用单边扰动进行梯度估计\n",
    "        val_plus = calculate_cspsa_violation(rho_k, params_plus)\n",
    "\n",
    "        gradient_estimate = (val_plus - val_k) / ck * np.conj(delta)\n",
    "\n",
    "        # 4. 更新参数（目标是最大化，所以是加号）\n",
    "        params += alpha(k) * gradient_estimate\n",
    "        params /= np.linalg.norm(params)\n",
    "\n",
    "    return history\n",
    "\n",
    "\n",
    "def run_cspsa_multiple_inits(hparams, iterations, num_runs):\n",
    "    \"\"\"\n",
    "    为子图(b)运行CSPSA：测量未对准（用多个初始条件展示鲁棒性）。\n",
    "    \"\"\"\n",
    "\n",
    "    # 理想的、固定的最大纠缠态\n",
    "    psi_ideal = (qt.tensor(H, H) + qt.tensor(V, V)).unit()\n",
    "    rho_ideal = qt.ket2dm(psi_ideal.unit())\n",
    "\n",
    "    all_runs_history = []\n",
    "\n",
    "    for i in range(num_runs):\n",
    "        print(f\"Running simulation for initial condition {i+1}/{num_runs}...\")\n",
    "        params = np.random.uniform(-1, 1, 10) + 1j * np.random.uniform(-1, 1, 10)\n",
    "        params /= np.linalg.norm(params)\n",
    "\n",
    "\n",
    "        history = []\n",
    "        for k in range(1, iterations + 1):\n",
    "            val_k = calculate_cspsa_violation(rho_ideal, params)\n",
    "            history.append(val_k)\n",
    "\n",
    "            delta = np.random.choice([1, -1, 1j, -1j], size=10)\n",
    "            ck = c(k)\n",
    "\n",
    "            params_plus = params + ck * delta\n",
    "            val_plus = calculate_cspsa_violation(rho_ideal, params_plus)\n",
    "\n",
    "            gradient_estimate = (val_plus - val_k) / ck * np.conj(delta)\n",
    "\n",
    "            params += alpha(k) * gradient_estimate\n",
    "            params /= np.linalg.norm(params)\n",
    "\n",
    "        all_runs_history.append(history)\n",
    "\n",
    "    return all_runs_history\n"
   ],
   "id": "db93591fd9dbaa4f",
   "outputs": [
    {
     "ename": "IndentationError",
     "evalue": "unindent does not match any outer indentation level (<tokenize>, line 7)",
     "output_type": "error",
     "traceback": [
      "\u001B[0;36m  File \u001B[0;32m<tokenize>:7\u001B[0;36m\u001B[0m\n\u001B[0;31m    def alpha(k):\u001B[0m\n\u001B[0m    ^\u001B[0m\n\u001B[0;31mIndentationError\u001B[0m\u001B[0;31m:\u001B[0m unindent does not match any outer indentation level\n"
     ]
    }
   ],
   "execution_count": 53
  },
  {
   "metadata": {
    "ExecuteTime": {
     "end_time": "2025-06-30T08:41:33.132486Z",
     "start_time": "2025-06-30T08:36:12.593906Z"
    }
   },
   "cell_type": "code",
   "source": [
    "\n",
    "# =============================================================================\n",
    "# --- 4. 主执行块 ---\n",
    "# =============================================================================\n",
    "\n",
    "# 根据文本描述设置超参数\n",
    "# 注意: Mathematica代码中的第二部分使用了不同的超参数，我们采用文本中的\n",
    "HPARAMS_A = HPARAMS_A = {'a': 1.0, 's': 1.25, 'b': 0.25, 'r': 1/6.0}\n",
    "ITERATIONS_A = 150\n",
    "SIGMA = np.pi / 50 # 对应 Mathematica 中的 NormalDistribution[pi/4, pi/50]\n",
    "\n",
    "HPARAMS_A = {'a': 1.0, 's': 1.25, 'b': 0.25, 'r': 1/6.0}\n",
    "ITERATIONS_B = 80\n",
    "NUM_RUNS_B = 5\n",
    "\n",
    "# --- 运行模拟 ---\n",
    "print(\"--- Running simulation for Figure 4(a): Instability of source ---\")\n",
    "history_a = run_cspsa_source_noise(hparams=HPARAMS_A, iterations=ITERATIONS_A, sigma=SIGMA)\n",
    "print(\"Done.\")\n",
    "\n",
    "print(\"\\n--- Running simulation for Figure 4(b): Measurement misalignment ---\")\n",
    "histories_b = run_cspsa_multiple_inits(hparams=HPARAMS_B, iterations=ITERATIONS_B, num_runs=NUM_RUNS_B)\n",
    "print(\"Done.\")\n",
    "\n",
    "\n",
    "# =============================================================================\n",
    "# --- 5. 绘图 ---\n",
    "# =============================================================================\n",
    "print(\"\\nGenerating Figure 4...\")\n",
    "plt.style.use('seaborn-v0_8-whitegrid')\n",
    "fig, (ax1, ax2) = plt.subplots(1, 2, figsize=(16, 6), dpi=120)\n",
    "fig.suptitle(\"CSPSA Robustness Analysis\", fontsize=16)\n",
    "\n",
    "# --- 子图 (a): 不稳定的源 ---\n",
    "ax1.plot(history_a, label='Violation Value per Iteration', color='royalblue')\n",
    "# 计算并绘制后半部分迭代的均值，以显示波动中心\n",
    "mean_val = np.mean(history_a[len(history_a)//2:])\n",
    "ax1.axhline(mean_val, color='firebrick', linestyle='--', label=f'Average Violation ≈ {mean_val:.3f}')\n",
    "ax1.set_title(\"(a) Instability of Source\", fontsize=14)\n",
    "ax1.set_xlabel(\"Iteration\", fontsize=12)\n",
    "ax1.set_ylabel(\"Instrumental Violation\", fontsize=12)\n",
    "ax1.legend()\n",
    "ax1.grid(True, which='both', linestyle='--', alpha=0.7)\n",
    "# 根据文本描述，收敛发生在30-50次迭代，我们显示更多以观察\n",
    "ax1.set_xlim(0, ITERATIONS_A)\n",
    "\n",
    "# --- 子图 (b): 测量未对准 ---\n",
    "for i, history in enumerate(histories_b):\n",
    "    ax2.plot(history, label=f'Initial Condition {i+1}', alpha=0.8)\n",
    "ax2.set_title(\"(b) Measurement Misalignment (Robustness to Inits)\", fontsize=14)\n",
    "ax2.set_xlabel(\"Iteration\", fontsize=12)\n",
    "ax2.set_ylabel(\"Instrumental Violation\", fontsize=12)\n",
    "ax2.legend()\n",
    "ax2.grid(True, which='both', linestyle='--', alpha=0.7)\n",
    "ax2.set_xlim(0, ITERATIONS_B)\n",
    "\n",
    "\n",
    "plt.tight_layout(rect=[0, 0, 1, 0.96])\n",
    "plt.savefig(\"figure4_robustness_analysis.pdf\")\n",
    "plt.show()"
   ],
   "id": "initial_id",
   "outputs": [
    {
     "name": "stdout",
     "output_type": "stream",
     "text": [
      "--- Running simulation for Figure 4(a): Instability of source ---\n"
     ]
    },
    {
     "ename": "TypeError",
     "evalue": "unsupported operand type(s) for ** or pow(): 'float' and 'str'",
     "output_type": "error",
     "traceback": [
      "\u001B[0;31m---------------------------------------------------------------------------\u001B[0m",
      "\u001B[0;31mTypeError\u001B[0m                                 Traceback (most recent call last)",
      "Cell \u001B[0;32mIn[29], line 17\u001B[0m\n\u001B[1;32m     15\u001B[0m \u001B[38;5;66;03m# --- 运行模拟 ---\u001B[39;00m\n\u001B[1;32m     16\u001B[0m \u001B[38;5;28mprint\u001B[39m(\u001B[38;5;124m\"\u001B[39m\u001B[38;5;124m--- Running simulation for Figure 4(a): Instability of source ---\u001B[39m\u001B[38;5;124m\"\u001B[39m)\n\u001B[0;32m---> 17\u001B[0m history_a \u001B[38;5;241m=\u001B[39m \u001B[43mrun_cspsa_source_noise\u001B[49m\u001B[43m(\u001B[49m\u001B[43mhparams\u001B[49m\u001B[38;5;241;43m=\u001B[39;49m\u001B[43mHPARAMS_A\u001B[49m\u001B[43m,\u001B[49m\u001B[43m \u001B[49m\u001B[43miterations\u001B[49m\u001B[38;5;241;43m=\u001B[39;49m\u001B[43mITERATIONS_A\u001B[49m\u001B[43m,\u001B[49m\u001B[43m \u001B[49m\u001B[43msigma\u001B[49m\u001B[38;5;241;43m=\u001B[39;49m\u001B[43mSIGMA\u001B[49m\u001B[43m)\u001B[49m\n\u001B[1;32m     18\u001B[0m \u001B[38;5;28mprint\u001B[39m(\u001B[38;5;124m\"\u001B[39m\u001B[38;5;124mDone.\u001B[39m\u001B[38;5;124m\"\u001B[39m)\n\u001B[1;32m     20\u001B[0m \u001B[38;5;28mprint\u001B[39m(\u001B[38;5;124m\"\u001B[39m\u001B[38;5;130;01m\\n\u001B[39;00m\u001B[38;5;124m--- Running simulation for Figure 4(b): Measurement misalignment ---\u001B[39m\u001B[38;5;124m\"\u001B[39m)\n",
      "Cell \u001B[0;32mIn[28], line 34\u001B[0m, in \u001B[0;36mrun_cspsa_source_noise\u001B[0;34m(hparams, iterations, sigma)\u001B[0m\n\u001B[1;32m     32\u001B[0m \u001B[38;5;66;03m# 3. CSPSA步骤\u001B[39;00m\n\u001B[1;32m     33\u001B[0m delta \u001B[38;5;241m=\u001B[39m np\u001B[38;5;241m.\u001B[39mrandom\u001B[38;5;241m.\u001B[39mchoice([\u001B[38;5;241m1\u001B[39m, \u001B[38;5;241m-\u001B[39m\u001B[38;5;241m1\u001B[39m, \u001B[38;5;241m1\u001B[39mj, \u001B[38;5;241m-\u001B[39m\u001B[38;5;241m1\u001B[39mj], size\u001B[38;5;241m=\u001B[39m\u001B[38;5;241m10\u001B[39m)\n\u001B[0;32m---> 34\u001B[0m ck \u001B[38;5;241m=\u001B[39m \u001B[43mc\u001B[49m\u001B[43m(\u001B[49m\u001B[43mk\u001B[49m\u001B[43m)\u001B[49m\n\u001B[1;32m     36\u001B[0m params_plus \u001B[38;5;241m=\u001B[39m params \u001B[38;5;241m+\u001B[39m ck \u001B[38;5;241m*\u001B[39m delta\n\u001B[1;32m     38\u001B[0m \u001B[38;5;66;03m# 使用单边扰动进行梯度估计\u001B[39;00m\n",
      "Cell \u001B[0;32mIn[28], line 17\u001B[0m, in \u001B[0;36mrun_cspsa_source_noise.<locals>.<lambda>\u001B[0;34m(k)\u001B[0m\n\u001B[1;32m     14\u001B[0m params \u001B[38;5;241m/\u001B[39m\u001B[38;5;241m=\u001B[39m np\u001B[38;5;241m.\u001B[39mlinalg\u001B[38;5;241m.\u001B[39mnorm(params)\n\u001B[1;32m     16\u001B[0m alpha \u001B[38;5;241m=\u001B[39m \u001B[38;5;28;01mlambda\u001B[39;00m k: a \u001B[38;5;241m/\u001B[39m (k \u001B[38;5;241m+\u001B[39m \u001B[38;5;241m1.0\u001B[39m) \u001B[38;5;241m*\u001B[39m\u001B[38;5;241m*\u001B[39m s\n\u001B[0;32m---> 17\u001B[0m c \u001B[38;5;241m=\u001B[39m \u001B[38;5;28;01mlambda\u001B[39;00m k: b \u001B[38;5;241m/\u001B[39m \u001B[43m(\u001B[49m\u001B[43mk\u001B[49m\u001B[43m \u001B[49m\u001B[38;5;241;43m+\u001B[39;49m\u001B[43m \u001B[49m\u001B[38;5;241;43m1.0\u001B[39;49m\u001B[43m)\u001B[49m\u001B[43m \u001B[49m\u001B[38;5;241;43m*\u001B[39;49m\u001B[38;5;241;43m*\u001B[39;49m\u001B[43m \u001B[49m\u001B[43mr\u001B[49m\n\u001B[1;32m     19\u001B[0m history \u001B[38;5;241m=\u001B[39m []\n\u001B[1;32m     20\u001B[0m mean_theta \u001B[38;5;241m=\u001B[39m np\u001B[38;5;241m.\u001B[39mpi \u001B[38;5;241m/\u001B[39m \u001B[38;5;241m4\u001B[39m\n",
      "\u001B[0;31mTypeError\u001B[0m: unsupported operand type(s) for ** or pow(): 'float' and 'str'"
     ]
    }
   ],
   "execution_count": 29
  },
  {
   "metadata": {},
   "cell_type": "code",
   "outputs": [],
   "execution_count": null,
   "source": "HPARAMS_A = {'a': 1.0, 's': 1.25, 'b': 0.25, 'r': 1/6.0}",
   "id": "85075abcdf5661a1"
  }
 ],
 "metadata": {
  "kernelspec": {
   "display_name": "Python 3",
   "language": "python",
   "name": "python3"
  },
  "language_info": {
   "codemirror_mode": {
    "name": "ipython",
    "version": 2
   },
   "file_extension": ".py",
   "mimetype": "text/x-python",
   "name": "python",
   "nbconvert_exporter": "python",
   "pygments_lexer": "ipython2",
   "version": "2.7.6"
  }
 },
 "nbformat": 4,
 "nbformat_minor": 5
}
